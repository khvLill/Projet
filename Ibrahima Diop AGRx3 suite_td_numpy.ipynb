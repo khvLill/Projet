{
 "cells": [
  {
   "cell_type": "markdown",
   "id": "fff3860c",
   "metadata": {},
   "source": [
    "# QUESTION 6"
   ]
  },
  {
   "cell_type": "code",
   "execution_count": 7,
   "id": "1895dc3a",
   "metadata": {},
   "outputs": [
    {
     "name": "stdout",
     "output_type": "stream",
     "text": [
      "[[1 1]\n",
      " [1 1]\n",
      " [1 1]\n",
      " [1 1]\n",
      " [1 1]]\n"
     ]
    }
   ],
   "source": [
    "#a.1: la transposée de ones\n",
    "import numpy as np\n",
    "\n",
    "ones = np.ones((2,5), dtype = int)\n",
    "ones\n",
    "T = ones.transpose()\n",
    "\n",
    "print(T)"
   ]
  },
  {
   "cell_type": "code",
   "execution_count": 8,
   "id": "9b3e0db0",
   "metadata": {},
   "outputs": [
    {
     "name": "stdout",
     "output_type": "stream",
     "text": [
      "[[ 4. 24. 44.]\n",
      " [ 8. 28. 48.]\n",
      " [12. 32. 52.]\n",
      " [16. 36. 56.]\n",
      " [20. 40. 60.]]\n"
     ]
    }
   ],
   "source": [
    "#a.1: la transposée de myarray2\n",
    "import numpy as np\n",
    "\n",
    "myarray2 = np.arange(start=4,stop=64,step=4,dtype=float).reshape(3,5)\n",
    "myarray2\n",
    "T = myarray2.transpose()\n",
    "\n",
    "print(T)"
   ]
  },
  {
   "cell_type": "code",
   "execution_count": 3,
   "id": "db0642a9",
   "metadata": {},
   "outputs": [
    {
     "name": "stdout",
     "output_type": "stream",
     "text": [
      "['u', 'o', 'i', 'e', 'a']\n"
     ]
    }
   ],
   "source": [
    "#b : trier le tableau vowels en ordre inverse\n",
    "import numpy as np\n",
    "\n",
    "vowels = np.array([\"a\",\"i\",\"o\",\"e\",\"u\"])\n",
    "vowels\n",
    "tri = sorted(vowels, reverse = True)\n",
    "print(tri)"
   ]
  },
  {
   "cell_type": "code",
   "execution_count": 7,
   "id": "4754c53c",
   "metadata": {},
   "outputs": [
    {
     "name": "stdout",
     "output_type": "stream",
     "text": [
      "[[-19.   -2.    2.7]\n",
      " [  0.    3.4  99.9]\n",
      " [  0.   10.6  13. ]]\n",
      "None\n"
     ]
    }
   ],
   "source": [
    "#c : trier le tableau myarray1\n",
    "myarray1 = np.array([[2.7, -2, -19], [0, 3.4, 99.9], [10.6, 0, 13]])\n",
    "myarray1\n",
    "tri = myarray1.sort()\n",
    "print(myarray1)\n",
    "print(tri)"
   ]
  },
  {
   "cell_type": "code",
   "execution_count": 6,
   "id": "23cc620f",
   "metadata": {},
   "outputs": [
    {
     "name": "stdout",
     "output_type": "stream",
     "text": [
      "myarray2A [ 4.  8. 12.]\n",
      "myarray2B [16. 20. 24.]\n",
      "myarray2C [28. 32. 36.]\n",
      "myarray2D [40. 44. 48.]\n",
      "myarray2E [52. 56. 60.]\n"
     ]
    }
   ],
   "source": [
    "#7.a :utiliser numpy.split() pour diviser myarray2 en 5 tableaux\n",
    "import numpy as np\n",
    "\n",
    "myarray2 = np.arange(start=4,stop=64,step=4,dtype=float)\n",
    "myarray2\n",
    "sections = np.split(myarray2, 5)\n",
    "\n",
    "print(\"myarray2A\",sections[0])\n",
    "print(\"myarray2B\",sections[1])\n",
    "print(\"myarray2C\",sections[2])\n",
    "print(\"myarray2D\",sections[3])\n",
    "print(\"myarray2E\",sections[4])\n"
   ]
  },
  {
   "cell_type": "code",
   "execution_count": 25,
   "id": "be1f146b",
   "metadata": {},
   "outputs": [
    {
     "data": {
      "text/plain": [
       "array([[ 4.,  8., 12.],\n",
       "       [16., 20., 24.],\n",
       "       [28., 32., 36.]])"
      ]
     },
     "execution_count": 25,
     "metadata": {},
     "output_type": "execute_result"
    }
   ],
   "source": [
    "#7.c : \n",
    "result = np.vstack ((sections[0],sections[1],sections[2]))\n",
    "result"
   ]
  },
  {
   "cell_type": "code",
   "execution_count": null,
   "id": "f7a6558e",
   "metadata": {},
   "outputs": [],
   "source": [
    "# 7.b : \n",
    "zeros = np.zeros(10)\n",
    "zeros\n",
    "zerosA = zeros/2\n",
    "print(\"zerosA\",zerosA)\n",
    "zerosB = zeros/5\n",
    "print(\"zerosB\",zerosB)\n",
    "zerosC = zeros/7\n",
    "print(\"zerosC\",zerosC)\n",
    "zerosD = zeros/8\n",
    "print(\"zerosD\",zerosD)"
   ]
  },
  {
   "cell_type": "code",
   "execution_count": 10,
   "id": "8311a9e0",
   "metadata": {},
   "outputs": [
    {
     "name": "stdout",
     "output_type": "stream",
     "text": [
      "[[-1.   -0.75 -0.5 ]\n",
      " [-0.25  0.    0.25]\n",
      " [ 0.5   0.75  1.  ]\n",
      " [ 1.25  1.5   1.75]\n",
      " [ 2.    2.25  2.5 ]]\n",
      "\n",
      "[[2.75 3.   3.25]\n",
      " [3.5  3.75 4.  ]\n",
      " [4.25 4.5  4.75]\n",
      " [5.   5.25 5.5 ]\n",
      " [5.75 6.   6.25]]\n",
      "\n",
      "[[6.5  6.75 7.  ]\n",
      " [7.25 7.5  7.75]\n",
      " [8.   8.25 8.5 ]\n",
      " [8.75 9.   9.25]]\n",
      "\n"
     ]
    }
   ],
   "source": [
    "#8 : \n",
    "import numpy as np\n",
    "\n",
    "myarray4 = np.arange(-1, 9.5, 0.25).reshape((14, 3))\n",
    "result = np.array_split(myarray4, 3)\n",
    "\n",
    "for i, part in enumerate(result, 1):\n",
    "    print(f\"{part}\\n\")\n"
   ]
  },
  {
   "cell_type": "code",
   "execution_count": 11,
   "id": "35919d97",
   "metadata": {},
   "outputs": [
    {
     "data": {
      "text/plain": [
       "173.25"
      ]
     },
     "execution_count": 11,
     "metadata": {},
     "output_type": "execute_result"
    }
   ],
   "source": [
    "#9.a :\n",
    "sum_of_elements = np.sum(myarray4)\n",
    "sum_of_elements"
   ]
  },
  {
   "cell_type": "code",
   "execution_count": 12,
   "id": "6acf4035",
   "metadata": {},
   "outputs": [
    {
     "data": {
      "text/plain": [
       "array([-2.25,  0.  ,  2.25,  4.5 ,  6.75,  9.  , 11.25, 13.5 , 15.75,\n",
       "       18.  , 20.25, 22.5 , 24.75, 27.  ])"
      ]
     },
     "execution_count": 12,
     "metadata": {},
     "output_type": "execute_result"
    }
   ],
   "source": [
    "#9.b :\n",
    "sum_by_row = np.sum(myarray4, axis=1)\n",
    "sum_by_row"
   ]
  },
  {
   "cell_type": "code",
   "execution_count": null,
   "id": "2620dc28",
   "metadata": {},
   "outputs": [],
   "source": []
  }
 ],
 "metadata": {
  "kernelspec": {
   "display_name": "Python 3 (ipykernel)",
   "language": "python",
   "name": "python3"
  },
  "language_info": {
   "codemirror_mode": {
    "name": "ipython",
    "version": 3
   },
   "file_extension": ".py",
   "mimetype": "text/x-python",
   "name": "python",
   "nbconvert_exporter": "python",
   "pygments_lexer": "ipython3",
   "version": "3.11.5"
  }
 },
 "nbformat": 4,
 "nbformat_minor": 5
}
