{
 "cells": [
  {
   "cell_type": "markdown",
   "metadata": {},
   "source": [
    "# Exercice1:"
   ]
  },
  {
   "cell_type": "code",
   "execution_count": 7,
   "metadata": {},
   "outputs": [
    {
     "name": "stdout",
     "output_type": "stream",
     "text": [
      "[2, 4, 6, 8, 10, 12, 14, 16, 18, 20]\n"
     ]
    }
   ],
   "source": [
    "#1. Ecrivez un programme qui cree une liste de nombre de 1 à 10 et affiche chaque nombre multiplié par 2 liste multi []\n",
    "liste_multi=[]\n",
    "for i in range(1,11):\n",
    "    multi=i*2\n",
    "    liste_multi.append(multi)\n",
    "print(liste_multi)"
   ]
  },
  {
   "cell_type": "code",
   "execution_count": 9,
   "metadata": {},
   "outputs": [
    {
     "name": "stdout",
     "output_type": "stream",
     "text": [
      "3\n",
      "4\n"
     ]
    }
   ],
   "source": [
    "#2. creez une liste de noms et affichez la Longueur de chaque nom en utilisant une boucle\n",
    "liste=['aya','faty']\n",
    "for i in liste:\n",
    "    print(len(i))"
   ]
  },
  {
   "cell_type": "code",
   "execution_count": 11,
   "metadata": {},
   "outputs": [
    {
     "name": "stdout",
     "output_type": "stream",
     "text": [
      "[4, 16, 961]\n"
     ]
    }
   ],
   "source": [
    "#3. une fonction qui prend une liste de nombre en entree et renvote la liste contenant le carre de chaque element\n",
    "def carres10Pour (liste):\n",
    "    liste_carres=[]\n",
    "    for i in liste:\n",
    "        liste_carres.append(i**2)\n",
    "    return liste_carres\n",
    "print(carres10Pour ([2,4,31]))"
   ]
  },
  {
   "cell_type": "code",
   "execution_count": 16,
   "metadata": {},
   "outputs": [
    {
     "name": "stdout",
     "output_type": "stream",
     "text": [
      "10\n",
      "9\n",
      "8\n",
      "10\n",
      "8\n",
      "9\n"
     ]
    }
   ],
   "source": [
    "#4. une liste de nombres aleatoires et affichez seulement Les nombres qui sont superieurs à 5 import random\n",
    "from random import randint\n",
    "import random\n",
    "liste=[random.randint(1, 10) for i in range(10)]\n",
    "for i in liste:\n",
    "    if i>5:\n",
    "        print(i)"
   ]
  },
  {
   "cell_type": "code",
   "execution_count": 18,
   "metadata": {},
   "outputs": [
    {
     "name": "stdout",
     "output_type": "stream",
     "text": [
      "Liste d'exemple: ['Python', 'Programmation', 'Cour', 'Liste', 'Exemple']\n",
      "La plus longue chaîne: Programmation\n"
     ]
    }
   ],
   "source": [
    "#5.un programme qui prend une chaine de caracteres en entrée et affiche la plus longue\n",
    "\n",
    "def plus_longue_chaine(liste_chaines):\n",
    "    if not liste_chaines:\n",
    "        return \"La liste est vide.\"\n",
    "\n",
    "    plus_longue = max(liste_chaines, key=len)\n",
    "    return plus_longue\n",
    "\n",
    "# Exemple d'utilisation\n",
    "liste_chaines_exemple = [\"Python\", \"Programmation\", \"Cour\", \"Liste\", \"Exemple\"]\n",
    "resultat_plus_longue = plus_longue_chaine(liste_chaines_exemple)\n",
    "\n",
    "print(\"Liste d'exemple:\", liste_chaines_exemple)\n",
    "print(\"La plus longue chaîne:\", resultat_plus_longue)"
   ]
  },
  {
   "cell_type": "markdown",
   "metadata": {},
   "source": [
    "# Exercice2:"
   ]
  },
  {
   "cell_type": "code",
   "execution_count": 19,
   "metadata": {},
   "outputs": [
    {
     "name": "stdout",
     "output_type": "stream",
     "text": [
      "Liste 1: [1, 2, 3, 4, 5]\n",
      "Liste 2: [3, 4, 5, 6, 7]\n",
      "Éléments communs: [3, 4, 5]\n"
     ]
    }
   ],
   "source": [
    "#1. Écrivez une fonction qui prend deux listes en entrée et renvoie une nouvelle liste contenant \n",
    "#les éléments communs aux deux listes\n",
    "def elements_communs(liste1, liste2):\n",
    "    # Utilisation de l'opérateur d'intersection (&) pour obtenir les éléments communs\n",
    "    elements_communs = list(set(liste1) & set(liste2))\n",
    "    return elements_communs\n",
    "\n",
    "# Exemple d'utilisation\n",
    "liste1 = [1, 2, 3, 4, 5]\n",
    "liste2 = [3, 4, 5, 6, 7]\n",
    "resultat = elements_communs(liste1, liste2)\n",
    "\n",
    "print(\"Liste 1:\", liste1)\n",
    "print(\"Liste 2:\", liste2)\n",
    "print(\"Éléments communs:\", resultat)"
   ]
  },
  {
   "cell_type": "code",
   "execution_count": 20,
   "metadata": {},
   "outputs": [
    {
     "name": "stdout",
     "output_type": "stream",
     "text": [
      "Entrez un nombre : 10\n",
      "Le nombre 10 est pair.\n"
     ]
    }
   ],
   "source": [
    "#2. Créez une fonction qui prend un nombre en entrée et renvoie \"pair\" ou \"impair\"\n",
    "def determiner_parite(nombre):\n",
    "    if nombre % 2 == 0:\n",
    "        return \"pair\"\n",
    "    else:\n",
    "        return \"impair\"\n",
    "\n",
    "# Exemple d'utilisation\n",
    "nombre_entree = int(input(\"Entrez un nombre : \"))\n",
    "resultat_parite = determiner_parite(nombre_entree)\n",
    "print(f\"Le nombre {nombre_entree} est {resultat_parite}.\")"
   ]
  },
  {
   "cell_type": "code",
   "execution_count": null,
   "metadata": {},
   "outputs": [],
   "source": [
    "#3. Écrivez une fonction qui prend une liste de nombres en entrée et renvoie la somme de tous les éléments\n",
    "def somme_elements(liste_nombres):\n",
    "    somme = sum(liste_nombres)\n",
    "    return somme\n",
    "\n",
    "# Exemple d'utilisation\n",
    "liste_exemple = [1, 2, 3, 4, 5]\n",
    "resultat_somme = somme_elements(liste_exemple)\n",
    "\n",
    "print(\"Liste d'exemple:\", liste_exemple)\n",
    "print(\"Somme des éléments:\", resultat_somme)"
   ]
  },
  {
   "cell_type": "code",
   "execution_count": 2,
   "metadata": {},
   "outputs": [],
   "source": [
    "#4. Créez une fonction qui prend une liste de mots en entrée et renvoie une nouvelle liste contenant \n",
    "#la première lettre de chaque mot.\n",
    "def premieres_lettres(liste_mots):\n",
    "    premieres_lettres = [mot[0] for mot in liste_mots]\n",
    "    return premieres_lettres\n",
    "\n",
    "# Exemple d'utilisation\n",
    "liste_mots_exemple = [\"python\", \"programmation\", \"exercice\", \"liste\"]\n",
    "resultat_premieres_lettres = premieres_lettres(liste_mots_exemple)\n",
    "\n",
    "print(\"Liste d'exemple:\", liste_mots_exemple)\n",
    "print(\"Premières lettres:\", resultat_premieres_lettres)"
   ]
  },
  {
   "cell_type": "code",
   "execution_count": null,
   "metadata": {},
   "outputs": [],
   "source": [
    "#5. Écrivez une fonction qui prend une chaîne de caractères en entrée et renvoie la même chaîne mais sans voyelles\n",
    "def sans_voyelles(chaine):\n",
    "    voyelles = \"aeiouAEIOU\"\n",
    "    chaine_sans_voyelles = ''.join(char for char in chaine if char not in voyelles)\n",
    "    return chaine_sans_voyelles\n",
    "\n",
    "# Exemple d'utilisation\n",
    "chaine_exemple = \"Hello, World!\"\n",
    "resultat_sans_voyelles = sans_voyelles(chaine_exemple)\n",
    "\n",
    "print(\"Chaîne d'exemple:\", chaine_exemple)\n",
    "print(\"Sans voyelles:\", resultat_sans_voyelles)"
   ]
  },
  {
   "cell_type": "markdown",
   "metadata": {},
   "source": [
    "# Exercice3"
   ]
  },
  {
   "cell_type": "code",
   "execution_count": null,
   "metadata": {},
   "outputs": [],
   "source": [
    "#1. Créez une liste de nombres et écrivez une fonction qui renvoie la médiane de cette liste.\n",
    "def mediane_liste(liste_nombres):\n",
    "    liste_triee = sorted(liste_nombres)\n",
    "    longueur = len(liste_triee)\n",
    "\n",
    "    if longueur % 2 == 0:\n",
    "        # Si la longueur de la liste est paire, la médiane est la moyenne des deux valeurs du milieu\n",
    "        milieu1 = liste_triee[longueur // 2 - 1]\n",
    "        milieu2 = liste_triee[longueur // 2]\n",
    "        mediane = (milieu1 + milieu2) / 2\n",
    "    else:\n",
    "        # Si la longueur de la liste est impaire, la médiane est la valeur du milieu\n",
    "        mediane = liste_triee[longueur // 2]\n",
    "\n",
    "    return mediane\n",
    "\n",
    "# Exemple d'utilisation\n",
    "liste_nombres_exemple = [5, 2, 8, 1, 3, 9, 6]\n",
    "resultat_mediane = mediane_liste(liste_nombres_exemple)\n",
    "\n",
    "print(\"Liste d'exemple:\", liste_nombres_exemple)\n",
    "print(\"Médiane de la liste:\", resultat_mediane)"
   ]
  },
  {
   "cell_type": "code",
   "execution_count": null,
   "metadata": {},
   "outputs": [],
   "source": [
    "#2.  Écrivez une fonction qui prend une liste de chaînes de caractères en entrée et renvoie \n",
    "#une nouvelle liste contenant seulement les chaînes de plus de 5 caractères.\n",
    "def chaines_plus_longues(liste_chaines):\n",
    "    chaines_plus_longues = [chaine for chaine in liste_chaines if len(chaine) > 5]\n",
    "    return chaines_plus_longues\n",
    "\n",
    "# Exemple d'utilisation\n",
    "liste_chaines_exemple = [\"Python\", \"Programmation\", \"Cour\", \"Liste\", \"Exemple\"]\n",
    "resultat_chaines_plus_longues = chaines_plus_longues(liste_chaines_exemple)\n",
    "\n",
    "print(\"Liste d'exemple:\", liste_chaines_exemple)\n",
    "print(\"Chaînes de plus de 5 caractères:\", resultat_chaines_plus_longues)"
   ]
  },
  {
   "cell_type": "code",
   "execution_count": null,
   "metadata": {},
   "outputs": [],
   "source": [
    "#3.Créez une liste de nombres et écrivez un programme qui calcule la moyenne de ces nombres sans utiliser la fonction `sum`.\n",
    "def calculer_moyenne(liste_nombres):\n",
    "    total = 0\n",
    "    nombre_elements = 0\n",
    "\n",
    "    for nombre in liste_nombres:\n",
    "        total += nombre\n",
    "        nombre_elements += 1\n",
    "\n",
    "    if nombre_elements == 0:\n",
    "        return \"La liste est vide, la moyenne n'est pas définie.\"\n",
    "    else:\n",
    "        moyenne = total / nombre_elements\n",
    "        return moyenne\n",
    "\n",
    "# Exemple d'utilisation\n",
    "liste_nombres_exemple = [10, 5, 8, 12, 7]\n",
    "resultat_moyenne = calculer_moyenne(liste_nombres_exemple)\n",
    "\n",
    "print(\"Liste d'exemple:\", liste_nombres_exemple)\n",
    "print(\"Moyenne des nombres:\", resultat_moyenne)"
   ]
  },
  {
   "cell_type": "code",
   "execution_count": null,
   "metadata": {},
   "outputs": [],
   "source": [
    "#4. Écrivez une fonction qui prend une liste en entrée et renvoie la liste inversée\n",
    "def inverser_liste(liste):\n",
    "    return liste[::-1]\n",
    "\n",
    "# Exemple d'utilisation\n",
    "liste_exemple = [1, 2, 3, 4, 5]\n",
    "resultat_inversion = inverser_liste(liste_exemple)\n",
    "\n",
    "print(\"Liste d'exemple:\", liste_exemple)\n",
    "print(\"Liste inversée:\", resultat_inversion)"
   ]
  },
  {
   "cell_type": "code",
   "execution_count": null,
   "metadata": {},
   "outputs": [],
   "source": [
    "#5.Créez une liste de noms et affichez les noms qui contiennent la lettre \"a\".\n",
    "def noms_contenant_a(liste_noms):\n",
    "    noms_avec_a = [nom for nom in liste_noms if 'a' in nom.lower()]\n",
    "    return noms_avec_a\n",
    "\n",
    "# Exemple d'utilisation\n",
    "liste_noms_exemple = [\"Alice\", \"Bob\", \"Charlie\", \"David\", \"Eva\"]\n",
    "resultat_noms_avec_a = noms_contenant_a(liste_noms_exemple)\n",
    "\n",
    "print(\"Liste d'exemple:\", liste_noms_exemple)\n",
    "print(\"Noms contenant la lettre 'a':\", resultat_noms_avec_a)"
   ]
  },
  {
   "cell_type": "markdown",
   "metadata": {},
   "source": [
    "# Exercice4"
   ]
  },
  {
   "cell_type": "code",
   "execution_count": null,
   "metadata": {},
   "outputs": [],
   "source": [
    "#1. Créez une fonction qui prend une liste en entrée et renvoie la liste sans les éléments en doublon\n",
    "def enlever_doublons(liste):\n",
    "    liste_sans_doublons = list(set(liste))\n",
    "    return liste_sans_doublons\n",
    "\n",
    "# Exemple d'utilisation\n",
    "liste_exemple = [1, 2, 3, 2, 4, 5, 3, 6]\n",
    "resultat_sans_doublons = enlever_doublons(liste_exemple)\n",
    "\n",
    "print(\"Liste d'exemple:\", liste_exemple)\n",
    "print(\"Liste sans doublons:\", resultat_sans_doublons)"
   ]
  },
  {
   "cell_type": "code",
   "execution_count": null,
   "metadata": {},
   "outputs": [],
   "source": [
    "#2.Créez une fonction qui génère une liste de nombres premiers jusqu'à un nombre donné.\n",
    "def nombres_premiers_jusqua(n):\n",
    "    # Initialiser une liste de booléens pour marquer les nombres comme premiers ou non\n",
    "    est_premier = [True] * (n + 1)\n",
    "    est_premier[0] = est_premier[1] = False  # 0 et 1 ne sont pas premiers\n",
    "\n",
    "    # Utiliser le crible d'Ératosthène pour marquer les nombres non premiers\n",
    "    for i in range(2, int(n**0.5) + 1):\n",
    "        if est_premier[i]:\n",
    "            for j in range(i*i, n + 1, i):\n",
    "                est_premier[j] = False\n",
    "\n",
    "    # Retourner la liste des nombres premiers\n",
    "    nombres_premiers = [i for i in range(2, n + 1) if est_premier[i]]\n",
    "    return nombres_premiers\n",
    "\n",
    "# Exemple d'utilisation\n",
    "limite_superieure = 30\n",
    "resultat_nombres_premiers = nombres_premiers_jusqua(limite_superieure)\n",
    "\n",
    "print(f\"Nombres premiers jusqu'à {limite_superieure}: {resultat_nombres_premiers}\")"
   ]
  },
  {
   "cell_type": "code",
   "execution_count": null,
   "metadata": {},
   "outputs": [],
   "source": [
    "#3.Écrivez un programme qui utilise la fonction map pour multiplier chaque élément d'une liste par 3\n",
    "# Définir une fonction de multiplication par 3\n",
    "def multiplier_par_trois(nombre):\n",
    "    return nombre * 3\n",
    "\n",
    "# Liste d'exemple\n",
    "liste_origine = [1, 2, 3, 4, 5]\n",
    "\n",
    "# Utiliser la fonction map pour appliquer la fonction à chaque élément de la liste\n",
    "liste_resultat = list(map(multiplier_par_trois, liste_origine))\n",
    "\n",
    "# Afficher les résultats\n",
    "print(\"Liste d'origine:\", liste_origine)\n",
    "print(\"Liste résultat (chaque élément multiplié par 3):\", liste_resultat)"
   ]
  },
  {
   "cell_type": "markdown",
   "metadata": {},
   "source": [
    "# Exercice5"
   ]
  },
  {
   "cell_type": "code",
   "execution_count": 21,
   "metadata": {},
   "outputs": [
    {
     "name": "stdout",
     "output_type": "stream",
     "text": [
      "Texte d'exemple: Hello, World! Bonjour tout le monde!\n",
      "Fréquences des lettres: {'h': 1, 'e': 3, 'l': 4, 'o': 6, 'w': 1, 'r': 2, 'd': 2, 'b': 1, 'n': 2, 'j': 1, 'u': 2, 't': 2, 'm': 1}\n"
     ]
    }
   ],
   "source": [
    "##Écrivez une fonction en Python qui prend en entrée un texte en anglais ou en français et qui \n",
    "#calcule la fréquence d'apparition de chaque lettre. La fonction devrait retourner un \n",
    "#dictionnaire où les clés sont les lettres de l'alphabet et les valeurs sont les fréquences \n",
    "#correspondantes\n",
    "\n",
    "def frequences_lettres(texte):\n",
    "    # Initialiser un dictionnaire pour stocker les fréquences\n",
    "    frequences = {}\n",
    "\n",
    "    # Parcourir chaque caractère dans le texte\n",
    "    for caractere in texte:\n",
    "        # Ignorer les caractères non alphabétiques\n",
    "        if caractere.isalpha():\n",
    "            # Convertir le caractère en minuscule pour éviter la distinction entre majuscules et minuscules\n",
    "            caractere = caractere.lower()\n",
    "            # Mettre à jour la fréquence du caractère dans le dictionnaire\n",
    "            frequences[caractere] = frequences.get(caractere, 0) + 1\n",
    "\n",
    "    return frequences\n",
    "\n",
    "# Exemple d'utilisation\n",
    "texte_exemple = \"Hello, World! Bonjour tout le monde!\"\n",
    "resultat_frequences = frequences_lettres(texte_exemple)\n",
    "\n",
    "print(\"Texte d'exemple:\", texte_exemple)\n",
    "print(\"Fréquences des lettres:\", resultat_frequences)"
   ]
  },
  {
   "cell_type": "code",
   "execution_count": null,
   "metadata": {},
   "outputs": [],
   "source": []
  }
 ],
 "metadata": {
  "kernelspec": {
   "display_name": "Python 3",
   "language": "python",
   "name": "python3"
  },
  "language_info": {
   "codemirror_mode": {
    "name": "ipython",
    "version": 3
   },
   "file_extension": ".py",
   "mimetype": "text/x-python",
   "name": "python",
   "nbconvert_exporter": "python",
   "pygments_lexer": "ipython3",
   "version": "3.7.4"
  }
 },
 "nbformat": 4,
 "nbformat_minor": 2
}
